{
 "cells": [
  {
   "cell_type": "markdown",
   "metadata": {},
   "source": [
    "# Random numbers example"
   ]
  },
  {
   "cell_type": "markdown",
   "metadata": {},
   "source": [
    "**Table of contents**<a id='toc0_'></a>    \n",
    "- 1. [Exchange economy with many consumers](#toc1_)    \n",
    "  - 1.1. [Demand](#toc1_1_)    \n",
    "  - 1.2. [Interactive figures](#toc1_2_)    \n",
    "  - 1.3. [Equilibrium](#toc1_3_)    \n",
    "- 2. [Numerical integration by Monte Carlo](#toc2_)    \n",
    "\n",
    "<!-- vscode-jupyter-toc-config\n",
    "\tnumbering=true\n",
    "\tanchor=true\n",
    "\tflat=false\n",
    "\tminLevel=2\n",
    "\tmaxLevel=6\n",
    "\t/vscode-jupyter-toc-config -->\n",
    "<!-- THIS CELL WILL BE REPLACED ON TOC UPDATE. DO NOT WRITE YOUR TEXT IN THIS CELL -->"
   ]
  },
  {
   "attachments": {},
   "cell_type": "markdown",
   "metadata": {},
   "source": [
    "This notebook will show how to use random numbers to simulate and solve a full equilibrium model with many heterogeneous agents."
   ]
  },
  {
   "cell_type": "code",
   "execution_count": 1,
   "metadata": {},
   "outputs": [],
   "source": [
    "import numpy as np\n",
    "\n",
    "from scipy.stats import norm # normal distribution\n",
    "\n",
    "%matplotlib inline\n",
    "import matplotlib.pyplot as plt\n",
    "plt.rcParams.update({\"axes.grid\":True,\"grid.color\":\"black\",\"grid.alpha\":\"0.25\",\"grid.linestyle\":\"--\"})\n",
    "plt.rcParams.update({'font.size': 14})\n",
    "\n",
    "import ipywidgets as widgets"
   ]
  },
  {
   "cell_type": "markdown",
   "metadata": {},
   "source": [
    "## 1. <a id='toc1_'></a>[Exchange economy with many consumers](#toc0_)"
   ]
  },
  {
   "cell_type": "markdown",
   "metadata": {},
   "source": [
    "Consider an **exchange economy** with"
   ]
  },
  {
   "cell_type": "markdown",
   "metadata": {},
   "source": [
    "1. 2 goods, $(x_1,x_2)$\n",
    "2. $N$ consumers indexed by $j \\in \\{1,2,\\dots,N\\}$\n",
    "3. Preferences are Cobb-Douglas with uniformly *heterogenous* coefficients\n",
    "\n",
    "$$\n",
    "\\begin{aligned}\n",
    "u^{j}(x_{1},x_{2}) & = x_{1}^{\\alpha_{j}}x_{2}^{1-\\alpha_{j}}\\\\\n",
    " & \\,\\,\\,\\alpha_{j}\\sim\\mathcal{U}(\\underline{\\mu},\\overline{\\mu})\\\\\n",
    " & \\,\\,\\,0<\\underline{\\mu}<\\overline{\\mu}<1\n",
    "\\end{aligned}\n",
    "$$\n",
    "\n",
    "4. Endowments are *homogenous* and given by\n",
    "\n",
    "$$\n",
    "\\boldsymbol{e}^{j}=(e_{1}^{j},e_{2}^{j})=(k,1),\\,k>0\n",
    "$$\n",
    "where good 2 is *numeraire*."
   ]
  },
  {
   "cell_type": "markdown",
   "metadata": {},
   "source": [
    "The implied **demand functions** are:\n",
    "\n",
    "$$\n",
    "\\begin{aligned}\n",
    "x_{1}^{\\star j}(p_{1},p_{2},e^{j})&=&\\alpha_{j}\\frac{I}{p_{1}}=\\alpha_{j}\\frac{kp_{1}+p_{2}}{p_{1}} \\\\\n",
    "x_{2}^{\\star j}(p_{1},p_{2},e^{j})&=&(1-\\alpha_{j})\\frac{I}{p_{2}}=(1-\\alpha_{j})\\frac{kp_{1}+p_{2}}{p_{2}}\n",
    "\\end{aligned}\n",
    "$$"
   ]
  },
  {
   "cell_type": "markdown",
   "metadata": {},
   "source": [
    "The **equilibrium** for a random draw of $\\alpha = \\{\\alpha_1,\\alpha_2,\\dots,\\alpha_N\\}$ is a set of **prices** $p_1$ and $p_2$ satifying:\n",
    "\n",
    "$$\n",
    "\\begin{aligned}\n",
    "x_1(p_1,p_2) = \\sum_{j=1}^N x_{1}^{\\star j}(p_{1},p_{2},e^{j}) &= \\sum_{j=1}^N e_1^j = Nk \\\\\n",
    "x_2(p_1,p_2) = \\sum_{j=1}^N x_{2}^{\\star j}(p_{1},p_{2},e^{j}) &= \\sum_{j=1}^N e_2^j = N\n",
    "\\end{aligned}\n",
    "$$"
   ]
  },
  {
   "cell_type": "markdown",
   "metadata": {},
   "source": [
    "**Problem:** Solve for this equilibrium.  \n",
    "But this requires a **distribution** of agents. Which means randomness.  \n",
    "We need a random number generator (RNG)!"
   ]
  },
  {
   "cell_type": "markdown",
   "metadata": {},
   "source": [
    "### 1.1. <a id='toc1_1_'></a>[Demand](#toc0_)"
   ]
  },
  {
   "cell_type": "markdown",
   "metadata": {},
   "source": [
    "**Warm-up**: Choose parameters and define demand functions."
   ]
  },
  {
   "cell_type": "code",
   "execution_count": 2,
   "metadata": {},
   "outputs": [],
   "source": [
    "# a. parameters\n",
    "N = 1000 # number of agents\n",
    "k = 2 # relative endowment of good 1\n",
    "mu_low = 0.1 # lower bound on alpha\n",
    "mu_high = 0.9 # upper bound on alpha\n",
    "\n",
    "# b. demand functions\n",
    "def demand_good_1_func(alpha,p1,p2,k):\n",
    "    I = k*p1+p2\n",
    "    return alpha*I/p1\n",
    "\n",
    "def demand_good_2_func(alpha,p1,p2,k):\n",
    "    I = k*p1+p2\n",
    "    return (1-alpha)*I/p2"
   ]
  },
  {
   "cell_type": "markdown",
   "metadata": {},
   "source": [
    "**Quizz:** take a quick [quizz](https://forms.office.com/Pages/ResponsePage.aspx?id=kX-So6HNlkaviYyfHO_6kckJrnVYqJlJgGf8Jm3FvY9UMFpSRTIzUlJKMkdFQlpIN1VZUE9EVTBaMSQlQCN0PWcu) regarding the demand functions."
   ]
  },
  {
   "cell_type": "markdown",
   "metadata": {},
   "source": [
    "$$ \n",
    "x_1(p_1,p_2) = \\sum_{j=1}^N x_{1}^{\\star j}(p_{1},p_{2},e^{j}) = \\alpha_{j}\\frac{kp_{1}+p_{2}}{p_{1}}\n",
    "$$"
   ]
  },
  {
   "cell_type": "markdown",
   "metadata": {},
   "source": [
    "Find demand distribution and total demand:"
   ]
  },
  {
   "cell_type": "code",
   "execution_count": 3,
   "metadata": {},
   "outputs": [],
   "source": [
    "def find_demand_good_1(alphas,p1,p2,k):\n",
    "    distr = demand_good_1_func(alphas,p1,p2,k) # Notice we are passing in arrays of alphas together with scalars! It works because of numpy broadcasting.\n",
    "    total = distr.sum()\n",
    "    return distr,total"
   ]
  },
  {
   "cell_type": "markdown",
   "metadata": {},
   "source": [
    "Calculate for various prices:"
   ]
  },
  {
   "cell_type": "code",
   "execution_count": 4,
   "metadata": {},
   "outputs": [],
   "source": [
    "# a. draw alphas\n",
    "alphas = np.random.uniform(low=mu_low, high=mu_high, size=N)\n",
    "\n",
    "# b. a set of hypothetical prices\n",
    "p1_vec = [0.5,1,2,5]\n",
    "p2 = 1\n",
    "\n",
    "# c. calculate demand given\n",
    "dists = np.empty((len(p1_vec),N))\n",
    "totals = np.empty(len(p1_vec))\n",
    "for i,p1 in enumerate(p1_vec):\n",
    "    dist,total = find_demand_good_1(alphas,p1,p2,k)\n",
    "    dists[i,:] = dist\n",
    "    totals[i] = total"
   ]
  },
  {
   "cell_type": "markdown",
   "metadata": {},
   "source": [
    "Plot the resulting demand given prices"
   ]
  },
  {
   "cell_type": "code",
   "execution_count": 5,
   "metadata": {},
   "outputs": [
    {
     "data": {
      "image/png": "[encoded data removed]",
      "text/plain": [
       "<Figure size 1000x400 with 2 Axes>"
      ]
     },
     "metadata": {},
     "output_type": "display_data"
    }
   ],
   "source": [
    "fig = plt.figure(figsize=(10,4))\n",
    "\n",
    "ax_left = fig.add_subplot(1,2,1)\n",
    "ax_left.set_title('Distributions of demand')\n",
    "for i,p1 in enumerate(p1_vec):\n",
    "    ax_left.hist(dists[i],density=True,alpha=0.5,label=f'$p_1 = {p1}$')\n",
    "ax_left.legend(loc='upper right')\n",
    "\n",
    "ax_right = fig.add_subplot(1,2,2)\n",
    "ax_right.set_title('Total demand given $p_1$')\n",
    "ax_right.grid(True)\n",
    "ax_right.plot(p1_vec,totals)\n",
    "ax_right.set_xlabel('$p_1$');"
   ]
  },
  {
   "cell_type": "markdown",
   "metadata": {},
   "source": [
    "### 1.2. <a id='toc1_2_'></a>[Interactive figures](#toc0_)"
   ]
  },
  {
   "cell_type": "markdown",
   "metadata": {},
   "source": [
    "Create a function constructing a figure:"
   ]
  },
  {
   "cell_type": "code",
   "execution_count": 6,
   "metadata": {},
   "outputs": [],
   "source": [
    "# This function tells the widget how the plot should look at a specific parametrization \n",
    "def interactive_figure(alphas,p1,p2,k):\n",
    "    \n",
    "    # a. calculations\n",
    "    dist,_total = find_demand_good_1(alphas,p1,p2,k)\n",
    "    \n",
    "    # b. figure\n",
    "    fig = plt.figure(dpi=100)\n",
    "    ax = fig.add_subplot(1,1,1)\n",
    "    ax.hist(dist,density=True)\n",
    "    ax.set_xlim([0,4]) # fixed x range\n",
    "    ax.set_ylim([0,0.8]) # fixed y range"
   ]
  },
  {
   "cell_type": "markdown",
   "metadata": {},
   "source": [
    "**Case 1:** Make it interactive with a **slider**"
   ]
  },
  {
   "cell_type": "code",
   "execution_count": 7,
   "metadata": {},
   "outputs": [
    {
     "data": {
      "application/vnd.jupyter.widget-view+json": {
       "model_id": "837a8b442a6c4c1285ab8a923c5c3733",
       "version_major": 2,
       "version_minor": 0
      },
      "text/plain": [
       "interactive(children=(FloatSlider(value=2.0, description='$p_1$', max=5.0, min=0.1, step=0.05), Output()), _do…"
      ]
     },
     "metadata": {},
     "output_type": "display_data"
    }
   ],
   "source": [
    "# Write out which arguments to interactive_figure you want to be changing or staying fixed \n",
    "widgets.interact(interactive_figure,\n",
    "    alphas=widgets.fixed(alphas),\n",
    "    p1=widgets.FloatSlider(description=\"$p_1$\", min=0.1, max=5, step=0.05, value=2),\n",
    "    p2=widgets.fixed(p2),\n",
    "    k=widgets.fixed(k)\n",
    ");"
   ]
  },
  {
   "cell_type": "markdown",
   "metadata": {},
   "source": [
    "**Case 2:** Make it interactive with a **textbox**:"
   ]
  },
  {
   "cell_type": "code",
   "execution_count": 18,
   "metadata": {},
   "outputs": [
    {
     "data": {
      "application/vnd.jupyter.widget-view+json": {
       "model_id": "e184a56dec404a478c672904b2511c1d",
       "version_major": 2,
       "version_minor": 0
      },
      "text/plain": [
       "interactive(children=(FloatText(value=2.0, description='$p_1$'), Output()), _dom_classes=('widget-interact',))"
      ]
     },
     "metadata": {},
     "output_type": "display_data"
    }
   ],
   "source": [
    "widgets.interact(interactive_figure,\n",
    "    alphas=widgets.fixed(alphas),\n",
    "    p1=widgets.FloatText(description=r\"$p_1$\", value=2),\n",
    "    p2=widgets.fixed(p2),\n",
    "    k=widgets.fixed(k)\n",
    ");"
   ]
  },
  {
   "cell_type": "markdown",
   "metadata": {},
   "source": [
    "**Case 3:** Make it interactive with a **dropdown menu**"
   ]
  },
  {
   "cell_type": "code",
   "execution_count": 19,
   "metadata": {},
   "outputs": [
    {
     "data": {
      "application/vnd.jupyter.widget-view+json": {
       "model_id": "8162a343ddc147b680aa45a0e3756eee",
       "version_major": 2,
       "version_minor": 0
      },
      "text/plain": [
       "interactive(children=(Dropdown(description='$p_1$', index=3, options=(0.5, 1, 1.5, 2.0, 2.5, 3), value=2.0), O…"
      ]
     },
     "metadata": {},
     "output_type": "display_data"
    }
   ],
   "source": [
    "widgets.interact(interactive_figure,\n",
    "    alphas=widgets.fixed(alphas),\n",
    "    p1=widgets.Dropdown(description=\"$p_1$\", options=[0.5,1,1.5,2.0,2.5,3], value=2),\n",
    "    p2=widgets.fixed(p2),\n",
    "    k=widgets.fixed(k)\n",
    ");"
   ]
  },
  {
   "cell_type": "markdown",
   "metadata": {},
   "source": [
    "**Task:** Add a slider for \\\\(k\\\\) to the interactive figure below."
   ]
  },
  {
   "cell_type": "code",
   "execution_count": 10,
   "metadata": {},
   "outputs": [
    {
     "data": {
      "application/vnd.jupyter.widget-view+json": {
       "model_id": "127db7fc406d476da421e6c76dc74df6",
       "version_major": 2,
       "version_minor": 0
      },
      "text/plain": [
       "interactive(children=(FloatSlider(value=2.0, description='$p_1$', max=5.0, min=0.1, step=0.05), Output()), _do…"
      ]
     },
     "metadata": {},
     "output_type": "display_data"
    }
   ],
   "source": [
    "# change this code\n",
    "widgets.interact(interactive_figure,\n",
    "    alphas=widgets.fixed(alphas),\n",
    "    p1=widgets.FloatSlider(description=\"$p_1$\", min=0.1, max=5, step=0.05, value=2),\n",
    "    p2=widgets.fixed(p2),\n",
    "    k=widgets.fixed(k)\n",
    ");"
   ]
  },
  {
   "cell_type": "markdown",
   "metadata": {},
   "source": [
    "### 1.3. <a id='toc1_3_'></a>[Equilibrium](#toc0_)"
   ]
  },
  {
   "cell_type": "markdown",
   "metadata": {},
   "source": [
    "The equilibrium conditions were that **excess demand**, $Z$, is = 0 for both goods:\n",
    "\n",
    "$$\n",
    "\\begin{aligned}\n",
    "\\sum_{j=1}^N x_{1}^{\\star j}(p_{1},p_{2},e^{j}) &= Nk \\Leftrightarrow Z_1 \\equiv \\sum_{j=1}^N x_{1}^{\\star j}(p_{1},p_{2},e^{j}) - Nk = 0 \\\\\n",
    "\\sum_{j=1}^N x_{2}^{\\star j}(p_{1},p_{2},e^{j}) &= N \\Leftrightarrow Z_2 \\equiv \\sum_{j=1}^N x_{2}^{\\star j}(p_{1},p_{2},e^{j}) - N = 0\n",
    "\\end{aligned}\n",
    "$$"
   ]
  },
  {
   "cell_type": "markdown",
   "metadata": {},
   "source": [
    "**Idea:** Solve just the first equation. Then the second is satisfied due to Walras's law."
   ]
  },
  {
   "cell_type": "markdown",
   "metadata": {},
   "source": [
    "**Algorithm:**  \n",
    "First choose a tolerance $\\epsilon > 0$ and an adjustment factor $\\kappa>0$, and a guess on $p_1 > 0$. \n",
    "\n",
    "Then find the equilibrium price by following iterative algorithm:\n",
    "\n",
    "1. Calculate total excess demand of good 1: $Z_1 = \\sum_{j=1}^N x_{1}^{\\star j}(p_{1},p_{2},e^{j}) - Nk$\n",
    "2. If $|Z_1| < \\epsilon $ stop\n",
    "3. If $|Z_1| \\geq \\epsilon $ set $p_1 = p_1 + \\kappa \\cdot \\frac{Z_1}{N}$\n",
    "4. Return to step 1\n",
    "\n",
    "**Intuition**  \n",
    "If excess demand is **positive** and far from 0, then **increase** the price.  \n",
    "If excess demand is **negative** and far from 0, then **decrease** the price.  "
   ]
  },
  {
   "cell_type": "code",
   "execution_count": 11,
   "metadata": {},
   "outputs": [],
   "source": [
    "# Use the functions in module market_eq\n",
    "%load_ext autoreload \n",
    "%autoreload 2\n",
    "from market_eq import * "
   ]
  },
  {
   "cell_type": "markdown",
   "metadata": {},
   "source": [
    "Finding the equilibrium price.  \n",
    "See `market_eq.py` for implementation. "
   ]
  },
  {
   "cell_type": "code",
   "execution_count": 12,
   "metadata": {},
   "outputs": [
    {
     "name": "stdout",
     "output_type": "stream",
     "text": [
      "  0: p1 =   1.33791452 -> excess demand ->  -620.85476613\n",
      "  1: p1 =   1.27751323 -> excess demand ->  -604.01298351\n",
      "  2: p1 =   1.21890752 -> excess demand ->  -586.05709322\n",
      "  3: p1 =   1.16221412 -> excess demand ->  -566.93399705\n",
      "  4: p1 =   1.10755415 -> excess demand ->  -546.59965887\n",
      "   ...\n",
      " 25: p1 =   0.54208913 -> excess demand ->   -56.07278067\n",
      " 50: p1 =   0.51661764 -> excess demand ->    -0.32502672\n",
      " 75: p1 =   0.51648015 -> excess demand ->    -0.00165171\n",
      "100: p1 =   0.51647945 -> excess demand ->    -0.00000839\n",
      "125: p1 =   0.51647945 -> excess demand ->    -0.00000004\n",
      "132: p1 =   0.51647945 -> excess demand ->    -0.00000001\n"
     ]
    }
   ],
   "source": [
    "p1_guess = 1.4\n",
    "p2 = 1\n",
    "kappa = 0.1\n",
    "eps = 1e-8\n",
    "p1 = find_equilibrium(alphas,p1_guess,p2,k,kappa=kappa,eps=eps)"
   ]
  },
  {
   "cell_type": "markdown",
   "metadata": {},
   "source": [
    "**Check:** Ensure that excess demand of both goods are (almost) zero."
   ]
  },
  {
   "cell_type": "code",
   "execution_count": 13,
   "metadata": {},
   "outputs": [
    {
     "name": "stdout",
     "output_type": "stream",
     "text": [
      "-9.703398973215371e-09 5.0116568672819994e-09\n"
     ]
    }
   ],
   "source": [
    "Z1 = excess_demand_good_1_func(alphas,p1,p2,k)\n",
    "Z2 = excess_demand_good_2_func(alphas,p1,p2,k)\n",
    "print(Z1,Z2)\n",
    "assert np.abs(Z1) < eps\n",
    "assert np.abs(Z2) < eps"
   ]
  },
  {
   "cell_type": "markdown",
   "metadata": {},
   "source": [
    "**Quizz:** take a quick quizz on the algorithm [here](https://forms.office.com/Pages/ResponsePage.aspx?id=kX-So6HNlkaviYyfHO_6kckJrnVYqJlJgGf8Jm3FvY9UMjRVRkEwQTRGVVJPVzRDS0dIV1VJWjhJVyQlQCN0PWcu)"
   ]
  },
  {
   "cell_type": "markdown",
   "metadata": {},
   "source": [
    "## 2. <a id='toc2_'></a>[Numerical integration by Monte Carlo](#toc0_)"
   ]
  },
  {
   "attachments": {},
   "cell_type": "markdown",
   "metadata": {},
   "source": [
    "Numerical integration is the task of computing\n",
    "\n",
    "$$ \n",
    "\\mathbb{E}[\\mathbf{g}(x)]  \\text{ where } x \\sim F,\n",
    "$$\n",
    "\n",
    "where $F$ is a known probability distribution and $\\mathbf{g}(\\cdot)$ is a function. In terms of a integral this can also be writen as\n",
    "\n",
    "$$\n",
    "\\mathbb{E}[\\mathbf{g}(x)] = \\int_{x\\in\\mathcal{X}} \\mathbf{g}(x) dF(x) = \\int_{x\\in\\mathcal{X}} \\mathbf{g}(x) f(x) dx\n",
    "$$\n",
    "\n",
    "where $f$ is the PDF for the CDF $F$ and $\\mathcal{X}$ is the domain of $x$.\n",
    "\n",
    "In an economic model, $\\mathbf{g}$ might represent the way the state of an agent or the economy develops stochastically. \n",
    "\n",
    "Relying on the law of large numbers we **approximate** the true integral with a finite sample:\n",
    "\n",
    "$$\n",
    "\\mathbb{E}[\\mathbf{g}(x)] \\approx \\frac{1}{N}\\sum_{i=1}^{N} \\mathbf{g}(x_i) \n",
    "$$\n",
    "\n",
    "where $x_i$ is drawn from $F$ using a random number generator. This is also called **numerical integration by Monte Carlo**.\n",
    "\n",
    "For an easy implementation, we use  \n",
    "\n",
    "$$\n",
    "\\mathbf{g}(x) = (x-2)^2\n",
    "$$"
   ]
  },
  {
   "cell_type": "markdown",
   "metadata": {},
   "source": [
    "**Monte Carlo function:**  "
   ]
  },
  {
   "cell_type": "code",
   "execution_count": 14,
   "metadata": {},
   "outputs": [],
   "source": [
    "def g(x):\n",
    "    return (x-2)**2\n",
    "\n",
    "def MC(N,g,F):\n",
    "    X = F.rvs(size=N) # rvs = draw N random values from F\n",
    "    return np.mean(g(X)) # apply g to X"
   ]
  },
  {
   "cell_type": "markdown",
   "metadata": {},
   "source": [
    "**Example** with a normal distribution:"
   ]
  },
  {
   "cell_type": "code",
   "execution_count": 15,
   "metadata": {},
   "outputs": [
    {
     "name": "stdout",
     "output_type": "stream",
     "text": [
      "E[g(x)] = 3.9692736744005024\n"
     ]
    }
   ],
   "source": [
    "N = 1000\n",
    "mu = 0.1\n",
    "sigma = 0.5\n",
    "F = norm(loc=mu,scale=sigma)\n",
    "mc_integral = MC(N,g,F)\n",
    "print('E[g(x)] =', mc_integral)"
   ]
  },
  {
   "attachments": {},
   "cell_type": "markdown",
   "metadata": {},
   "source": [
    "Function for drawning $ K $ Monte Carlo samples:"
   ]
  },
  {
   "cell_type": "code",
   "execution_count": 16,
   "metadata": {},
   "outputs": [],
   "source": [
    "def MC_sample(N,g,F,K):\n",
    "    \n",
    "    results = np.empty(K)\n",
    "    for i in range(K):\n",
    "        results[i] = MC(N,g,F)\n",
    "\n",
    "    return results"
   ]
  },
  {
   "cell_type": "markdown",
   "metadata": {},
   "source": [
    "The variance across Monte Carlo samples falls with larger $N$:"
   ]
  },
  {
   "cell_type": "code",
   "execution_count": 17,
   "metadata": {},
   "outputs": [
    {
     "name": "stdout",
     "output_type": "stream",
     "text": [
      "N =      100: 3.860277 (std: 0.1878)\n",
      "N =     1000: 3.854060 (std: 0.0601)\n",
      "N =    10000: 3.859868 (std: 0.0192)\n",
      "N =   100000: 3.859829 (std: 0.0064)\n"
     ]
    }
   ],
   "source": [
    "K = 1000\n",
    "for N in [10**2,10**3,10**4,10**5]:\n",
    "    results = MC_sample(N,g,F,K)\n",
    "    print(f'N = {N:8d}: {results.mean():.6f} (std: {results.std():.4f})')"
   ]
  },
  {
   "attachments": {},
   "cell_type": "markdown",
   "metadata": {},
   "source": [
    "In principle, you can always use Monte Carlo. But if $\\mathbf{g}$ had been a very computationally costly function, Monte Carlo would be infeasible. But there are other ways, which are a bit more advanced."
   ]
  }
 ],
 "metadata": {
  "kernelspec": {
   "display_name": "base",
   "language": "python",
   "name": "python3"
  },
  "language_info": {
   "codemirror_mode": {
    "name": "ipython",
    "version": 3
   },
   "file_extension": ".py",
   "mimetype": "text/x-python",
   "name": "python",
   "nbconvert_exporter": "python",
   "pygments_lexer": "ipython3",
   "version": "3.9.13"
  },
  "orig_nbformat": 4,
  "vscode": {
   "interpreter": {
    "hash": "49ad86e4173e808dde3ece77db1dfbcd474d878a6d41c4232c4fcffd8704151c"
   }
  }
 },
 "nbformat": 4,
 "nbformat_minor": 2
}
