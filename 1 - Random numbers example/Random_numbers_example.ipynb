{
 "cells": [
  {
   "cell_type": "markdown",
   "metadata": {},
   "source": [
    "# Random numbers example"
   ]
  },
  {
   "cell_type": "markdown",
   "metadata": {},
   "source": [
    "**Table of contents**<a id='toc0_'></a>    \n",
    "- 1. [Exchange economy with many consumers](#toc1_)    \n",
    "  - 1.1. [Demand](#toc1_1_)    \n",
    "  - 1.2. [Interactive figures](#toc1_2_)    \n",
    "  - 1.3. [Equilibrium](#toc1_3_)    \n",
    "- 2. [Numerical integration by Monte Carlo](#toc2_)    \n",
    "\n",
    "<!-- vscode-jupyter-toc-config\n",
    "\tnumbering=true\n",
    "\tanchor=true\n",
    "\tflat=false\n",
    "\tminLevel=2\n",
    "\tmaxLevel=6\n",
    "\t/vscode-jupyter-toc-config -->\n",
    "<!-- THIS CELL WILL BE REPLACED ON TOC UPDATE. DO NOT WRITE YOUR TEXT IN THIS CELL -->"
   ]
  },
  {
   "attachments": {},
   "cell_type": "markdown",
   "metadata": {},
   "source": [
    "This notebook will show how to use random numbers to simulate and solve a full equilibrium model with many heterogeneous agents."
   ]
  },
  {
   "cell_type": "code",
   "execution_count": 1,
   "metadata": {},
   "outputs": [],
   "source": [
    "import numpy as np\n",
    "\n",
    "from scipy.stats import norm # normal distribution\n",
    "\n",
    "%matplotlib inline\n",
    "import matplotlib.pyplot as plt\n",
    "plt.rcParams.update({\"axes.grid\":True,\"grid.color\":\"black\",\"grid.alpha\":\"0.25\",\"grid.linestyle\":\"--\"})\n",
    "plt.rcParams.update({'font.size': 14})\n",
    "\n",
    "import ipywidgets as widgets # For interactive plots/buttons"
   ]
  },
  {
   "cell_type": "markdown",
   "metadata": {},
   "source": [
    "## 1. <a id='toc1_'></a>[Exchange economy with many consumers](#toc0_)"
   ]
  },
  {
   "cell_type": "markdown",
   "metadata": {},
   "source": [
    "Consider an **exchange economy** with"
   ]
  },
  {
   "cell_type": "markdown",
   "metadata": {},
   "source": [
    "1. 2 goods, $(x_1,x_2)$\n",
    "2. $N$ consumers indexed by $j \\in \\{1,2,\\dots,N\\}$\n",
    "3. Preferences are Cobb-Douglas with uniformly *heterogenous* coefficients\n",
    "\n",
    "$$\n",
    "\\begin{aligned}\n",
    "u^{j}(x_{1},x_{2}) & = x_{1}^{\\alpha_{j}}x_{2}^{1-\\alpha_{j}}\\\\\n",
    " & \\,\\,\\,\\alpha_{j}\\sim\\mathcal{U}(\\underline{\\mu},\\overline{\\mu})\\\\\n",
    " & \\,\\,\\,0<\\underline{\\mu}<\\overline{\\mu}<1\n",
    "\\end{aligned}\n",
    "$$\n",
    "\n",
    "4. Endowments are *homogenous* and given by\n",
    "\n",
    "$$\n",
    "\\boldsymbol{e}^{j}=(e_{1}^{j},e_{2}^{j})=(k,1),\\,k>0\n",
    "$$\n",
    "where good 2 is *numeraire*."
   ]
  },
  {
   "attachments": {},
   "cell_type": "markdown",
   "metadata": {},
   "source": [
    "Giving income $I$, with the following budget constriant:\n",
    "\\begin{equation}\n",
    "I \\equiv kp_1+ p_2 \\geq x_1p_1 + x_2\n",
    "\\end{equation}"
   ]
  },
  {
   "cell_type": "markdown",
   "metadata": {},
   "source": [
    "The implied **demand functions** are:\n",
    "\n",
    "$$\n",
    "\\begin{aligned}\n",
    "x_{1}^{\\star j}(p_{1},p_{2},e^{j})&=&\\alpha_{j}\\frac{I}{p_{1}}=\\alpha_{j}\\frac{kp_{1}+p_{2}}{p_{1}} \\\\\n",
    "x_{2}^{\\star j}(p_{1},p_{2},e^{j})&=&(1-\\alpha_{j})\\frac{I}{p_{2}}=(1-\\alpha_{j})\\frac{kp_{1}+p_{2}}{p_{2}}\n",
    "\\end{aligned}\n",
    "$$"
   ]
  },
  {
   "attachments": {},
   "cell_type": "markdown",
   "metadata": {},
   "source": [
    "The **equilibrium** for a random draw of $\\alpha = \\{\\alpha_1,\\alpha_2,\\dots,\\alpha_N\\}$ is a set of **prices** $p_1$ and $p_2$ satifying:\n",
    "\n",
    "$$\n",
    "\\begin{aligned}\n",
    "x_1(p_1,p_2) = \\underset{\\text{Demand}}{\\underbrace{\\sum_{j=1}^N x_{1}^{\\star j}(p_{1},p_{2},e^{j})}} &=  \\underset{\\text{Supply}}{\\underbrace{\\sum_{j=1}^N e_1^j}} = Nk \\\\\n",
    "x_2(p_1,p_2) = \\sum_{j=1}^N x_{2}^{\\star j}(p_{1},p_{2},e^{j}) &= \\sum_{j=1}^N e_2^j = N\n",
    "\\end{aligned}\n",
    "$$"
   ]
  },
  {
   "cell_type": "markdown",
   "metadata": {},
   "source": [
    "**Problem:** Solve for this equilibrium.  \n",
    "But this requires a **distribution** of agents. Which means randomness.  \n",
    "We need a random number generator (RNG)!"
   ]
  },
  {
   "cell_type": "markdown",
   "metadata": {},
   "source": [
    "### 1.1. <a id='toc1_1_'></a>[Demand](#toc0_)"
   ]
  },
  {
   "cell_type": "markdown",
   "metadata": {},
   "source": [
    "**Warm-up**: Choose parameters and define demand functions."
   ]
  },
  {
   "cell_type": "code",
   "execution_count": 2,
   "metadata": {},
   "outputs": [],
   "source": [
    "# a. parameters\n",
    "N = 1000 # number of agents\n",
    "k = 2 # relative endowment of good 1\n",
    "mu_low = 0.1 # lower bound on alpha\n",
    "mu_high = 0.9 # upper bound on alpha\n",
    "\n",
    "# b. demand functions\n",
    "def demand_good_1_func(alpha,p1,p2,k):\n",
    "    I = k*p1+p2\n",
    "    return alpha*I/p1\n",
    "\n",
    "def demand_good_2_func(alpha,p1,p2,k):\n",
    "    I = k*p1+p2\n",
    "    return (1-alpha)*I/p2\n",
    "\n",
    "\n",
    "# Notice that if an numpy array with multiple values where passed as the alpha argument, \n",
    "# the function would return demand for each value of alpha (using broadcasting)."
   ]
  },
  {
   "cell_type": "markdown",
   "metadata": {},
   "source": [
    "Find demand distribution and total demand:"
   ]
  },
  {
   "cell_type": "code",
   "execution_count": 3,
   "metadata": {},
   "outputs": [],
   "source": [
    "def find_demand_good_1(alphas,p1,p2,k):\n",
    "    distr = demand_good_1_func(alphas,p1,p2,k) # Notice we are passing in arrays of alphas together with scalars! It works because of numpy broadcasting.\n",
    "    total = np.sum(distr)\n",
    "    return distr,total"
   ]
  },
  {
   "cell_type": "markdown",
   "metadata": {},
   "source": [
    "Calculate for various prices:"
   ]
  },
  {
   "cell_type": "code",
   "execution_count": 4,
   "metadata": {},
   "outputs": [],
   "source": [
    "# a. draw alphas\n",
    "alphas = np.random.uniform(low=mu_low, high=mu_high, size=N)\n",
    "\n",
    "# b. a set of hypothetical prices\n",
    "p1_vec = [0.5,1,2,5]\n",
    "p2 = 1\n",
    "\n",
    "# c. calculate demand given prices\n",
    "dists = np.empty((len(p1_vec),N))\n",
    "totals = np.empty(len(p1_vec))\n",
    "for i,p1 in enumerate(p1_vec):\n",
    "    dist,total = find_demand_good_1(alphas,p1,p2,k)\n",
    "    dists[i,:] = dist\n",
    "    totals[i] = total"
   ]
  },
  {
   "cell_type": "markdown",
   "metadata": {},
   "source": [
    "Plot the resulting demand given prices"
   ]
  },
  {
   "cell_type": "code",
   "execution_count": 5,
   "metadata": {},
   "outputs": [
    {
     "data": {
      "image/png": "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",
      "text/plain": [
       "<Figure size 1000x400 with 2 Axes>"
      ]
     },
     "metadata": {},
     "output_type": "display_data"
    }
   ],
   "source": [
    "fig = plt.figure(figsize=(10,4))\n",
    "\n",
    "ax_left = fig.add_subplot(1,2,1)\n",
    "ax_left.set_title('Distributions of demand')\n",
    "for i,p1 in enumerate(p1_vec):\n",
    "    ax_left.hist(dists[i],density=True,alpha=0.5,label=f'$p_1 = {p1}$')\n",
    "ax_left.legend(loc='upper right')\n",
    "\n",
    "ax_right = fig.add_subplot(1,2,2)\n",
    "ax_right.set_title('Total demand given $p_1$')\n",
    "ax_right.grid(True)\n",
    "ax_right.plot(p1_vec,totals)\n",
    "ax_right.set_xlabel('$p_1$');"
   ]
  },
  {
   "cell_type": "markdown",
   "metadata": {},
   "source": [
    "### 1.2. <a id='toc1_2_'></a>[Interactive figures](#toc0_)"
   ]
  },
  {
   "attachments": {},
   "cell_type": "markdown",
   "metadata": {},
   "source": [
    "Create a function constructing a figure, which can then be made interactive using [Jupyter widgets](https://ipywidgets.readthedocs.io/en/stable/) ([examples](https://ipywidgets.readthedocs.io/en/stable/examples/Widget%20List.html)):"
   ]
  },
  {
   "cell_type": "code",
   "execution_count": 6,
   "metadata": {},
   "outputs": [],
   "source": [
    "# This function tells the widget how the plot should look at a specific parametrization \n",
    "def interactive_figure(alphas,p1,p2,k):\n",
    "    \n",
    "    # a. calculations\n",
    "    dist,_total = find_demand_good_1(alphas,p1,p2,k)\n",
    "    \n",
    "    # b. figure\n",
    "    fig = plt.figure(dpi=100)\n",
    "    ax = fig.add_subplot(1,1,1)\n",
    "    ax.hist(dist,density=True)\n",
    "    ax.set_xlim([0,4]) # fixed x range\n",
    "    ax.set_ylim([0,0.8]) # fixed y range\n",
    "    ax.set_title(\"Distribution of demand for good 1\")"
   ]
  },
  {
   "cell_type": "markdown",
   "metadata": {},
   "source": [
    "**Case 1:** Make it interactive with a **slider**"
   ]
  },
  {
   "cell_type": "code",
   "execution_count": 7,
   "metadata": {},
   "outputs": [
    {
     "data": {
      "application/vnd.jupyter.widget-view+json": {
       "model_id": "b2733e1b06324cd58ffac5ca692f212c",
       "version_major": 2,
       "version_minor": 0
      },
      "text/plain": [
       "interactive(children=(FloatSlider(value=2.0, description='p1', max=5.0, min=0.1, step=0.05), Output()), _dom_c…"
      ]
     },
     "metadata": {},
     "output_type": "display_data"
    }
   ],
   "source": [
    "# Write out which arguments to interactive_figure you want to be changing or staying fixed \n",
    "widgets.interact(interactive_figure,\n",
    "    alphas=widgets.fixed(alphas),\n",
    "    p1=widgets.FloatSlider(description=r\"p1\", min=0.1, max=5, step=0.05, value=2),\n",
    "    p2=widgets.fixed(p2),\n",
    "    k=widgets.fixed(k)\n",
    ");"
   ]
  },
  {
   "cell_type": "markdown",
   "metadata": {},
   "source": [
    "**Case 2:** Make it interactive with a **textbox**:"
   ]
  },
  {
   "cell_type": "code",
   "execution_count": 8,
   "metadata": {},
   "outputs": [
    {
     "data": {
      "application/vnd.jupyter.widget-view+json": {
       "model_id": "3df0f10138fa4724aba14932e5a71df0",
       "version_major": 2,
       "version_minor": 0
      },
      "text/plain": [
       "interactive(children=(FloatText(value=2.0, description='p1'), Output()), _dom_classes=('widget-interact',))"
      ]
     },
     "metadata": {},
     "output_type": "display_data"
    }
   ],
   "source": [
    "widgets.interact(interactive_figure,\n",
    "    alphas=widgets.fixed(alphas),\n",
    "    p1=widgets.FloatText(description=r\"p1\", value=2),\n",
    "    p2=widgets.fixed(p2),\n",
    "    k=widgets.fixed(k)\n",
    ");"
   ]
  },
  {
   "cell_type": "markdown",
   "metadata": {},
   "source": [
    "**Case 3:** Make it interactive with a **dropdown menu**"
   ]
  },
  {
   "cell_type": "code",
   "execution_count": 9,
   "metadata": {},
   "outputs": [
    {
     "data": {
      "application/vnd.jupyter.widget-view+json": {
       "model_id": "3005416bbaa54486bc2158f6f4a1fada",
       "version_major": 2,
       "version_minor": 0
      },
      "text/plain": [
       "interactive(children=(Dropdown(description='p1', index=3, options=(0.5, 1, 1.5, 2.0, 2.5, 3), value=2.0), Outp…"
      ]
     },
     "metadata": {},
     "output_type": "display_data"
    }
   ],
   "source": [
    "widgets.interact(interactive_figure,\n",
    "    alphas=widgets.fixed(alphas),\n",
    "    p1=widgets.Dropdown(description=\"p1\", options=[0.5,1,1.5,2.0,2.5,3], value=2),\n",
    "    p2=widgets.fixed(p2),\n",
    "    k=widgets.fixed(k)\n",
    ");"
   ]
  },
  {
   "attachments": {},
   "cell_type": "markdown",
   "metadata": {},
   "source": [
    "**Task:** Add a slider for $k$ to the interactive figure below."
   ]
  },
  {
   "cell_type": "code",
   "execution_count": 10,
   "metadata": {},
   "outputs": [
    {
     "data": {
      "application/vnd.jupyter.widget-view+json": {
       "model_id": "14c81c78eb584caf83674d4754367f77",
       "version_major": 2,
       "version_minor": 0
      },
      "text/plain": [
       "interactive(children=(FloatSlider(value=2.0, description='p1', max=5.0, min=0.1, step=0.05), Output()), _dom_c…"
      ]
     },
     "metadata": {},
     "output_type": "display_data"
    }
   ],
   "source": [
    "# change this code\n",
    "widgets.interact(interactive_figure,\n",
    "    alphas=widgets.fixed(alphas),\n",
    "    p1=widgets.FloatSlider(description=\"p1\", min=0.1, max=5, step=0.05, value=2),\n",
    "    p2=widgets.fixed(p2),\n",
    "    k=widgets.fixed(k)\n",
    ");"
   ]
  },
  {
   "cell_type": "markdown",
   "metadata": {},
   "source": [
    "### 1.3. <a id='toc1_3_'></a>[Equilibrium](#toc0_)"
   ]
  },
  {
   "cell_type": "markdown",
   "metadata": {},
   "source": [
    "The equilibrium conditions were that **excess demand**, $Z$, is = 0 for both goods:\n",
    "\n",
    "$$\n",
    "\\begin{aligned}\n",
    "\\sum_{j=1}^N x_{1}^{\\star j}(p_{1},p_{2},e^{j}) &= Nk \\Leftrightarrow Z_1 \\equiv \\sum_{j=1}^N x_{1}^{\\star j}(p_{1},p_{2},e^{j}) - Nk = 0 \\\\\n",
    "\\sum_{j=1}^N x_{2}^{\\star j}(p_{1},p_{2},e^{j}) &= N \\Leftrightarrow Z_2 \\equiv \\sum_{j=1}^N x_{2}^{\\star j}(p_{1},p_{2},e^{j}) - N = 0\n",
    "\\end{aligned}\n",
    "$$"
   ]
  },
  {
   "cell_type": "markdown",
   "metadata": {},
   "source": [
    "**Idea:** Solve just the first equation. Then the second is satisfied due to Walras's law."
   ]
  },
  {
   "cell_type": "markdown",
   "metadata": {},
   "source": [
    "**Algorithm:**  \n",
    "First choose a tolerance $\\epsilon > 0$ and an adjustment factor $\\kappa>0$, and a guess on $p_1 > 0$. \n",
    "\n",
    "Then find the equilibrium price by following iterative algorithm:\n",
    "\n",
    "1. Calculate total excess demand of good 1: $Z_1 = \\sum_{j=1}^N x_{1}^{\\star j}(p_{1},p_{2},e^{j}) - Nk$\n",
    "2. If $|Z_1| < \\epsilon $ stop\n",
    "3. If $|Z_1| \\geq \\epsilon $ set $p_1 = p_1 + \\kappa \\cdot \\frac{Z_1}{N}$\n",
    "4. Return to step 1\n",
    "\n",
    "**Intuition**  \n",
    "If excess demand is **positive** and far from 0, then **increase** the price.  \n",
    "If excess demand is **negative** and far from 0, then **decrease** the price.  "
   ]
  },
  {
   "cell_type": "code",
   "execution_count": 11,
   "metadata": {},
   "outputs": [],
   "source": [
    "# Use the functions in module market_eq\n",
    "%load_ext autoreload \n",
    "%autoreload 2\n",
    "from market_eq import MarketEq"
   ]
  },
  {
   "cell_type": "markdown",
   "metadata": {},
   "source": [
    "Finding the equilibrium price.  \n",
    "See `market_eq.py` for implementation. "
   ]
  },
  {
   "cell_type": "code",
   "execution_count": 17,
   "metadata": {},
   "outputs": [
    {
     "name": "stdout",
     "output_type": "stream",
     "text": [
      "  0: p1 =   1.50000000 -> excess demand ->  -643.94758055\n",
      "  1: p1 =   1.43560524 -> excess demand ->  -628.74098598\n",
      "  2: p1 =   1.37273114 -> excess demand ->  -612.51694647\n",
      "  3: p1 =   1.31147945 -> excess demand ->  -595.21564083\n",
      "  4: p1 =   1.25195788 -> excess demand ->  -576.78116169\n",
      "   ...\n",
      " 25: p1 =   0.55991112 -> excess demand ->   -74.74571625\n",
      " 50: p1 =   0.51757728 -> excess demand ->    -0.46073123\n",
      " 75: p1 =   0.51733594 -> excess demand ->    -0.00237663\n",
      "100: p1 =   0.51733469 -> excess demand ->    -0.00001225\n",
      "125: p1 =   0.51733469 -> excess demand ->    -0.00000006\n",
      "134: p1 =   0.51733469 -> excess demand ->    -0.00000001\n"
     ]
    }
   ],
   "source": [
    "N = 1000 # number of agents\n",
    "k = 2 # relative endowment of good 1\n",
    "mu_low = 0.1 # lower bound on alpha\n",
    "mu_high = 0.9 # upper bound on alpha\n",
    "kappa = 0.1\n",
    "eps = 1e-8\n",
    "\n",
    "dale = MarketEq(N=N,k=k, mu_low=mu_low,mu_high=mu_high, kappa=kappa,eps=eps)\n",
    "\n",
    "\n",
    "p1_guess = 1.5\n",
    "p2 = 1\n",
    "dale.find_equilibrium(p1_guess,p2)"
   ]
  },
  {
   "cell_type": "markdown",
   "metadata": {},
   "source": [
    "**Check:** Ensure that excess demand of both goods are (almost) zero."
   ]
  },
  {
   "cell_type": "code",
   "execution_count": 13,
   "metadata": {},
   "outputs": [
    {
     "name": "stdout",
     "output_type": "stream",
     "text": [
      "Solution to market equilibrium:\n",
      "p1 = 0.515\n",
      "p2 = 1.000\n",
      "\n",
      "Excess demands are:\n",
      "Z1 = -9.551740731694736e-09\n",
      "Z2 = 4.917296791973058e-09\n"
     ]
    }
   ],
   "source": [
    "dale.print_solution()"
   ]
  },
  {
   "cell_type": "code",
   "execution_count": 14,
   "metadata": {},
   "outputs": [
    {
     "name": "stdout",
     "output_type": "stream",
     "text": [
      "-9.551740731694736e-09 4.917296791973058e-09\n"
     ]
    }
   ],
   "source": [
    "print(dale.Z1,dale.Z2)\n",
    "assert np.abs(dale.Z1) < eps\n",
    "assert np.abs(dale.Z2) < eps"
   ]
  },
  {
   "attachments": {},
   "cell_type": "markdown",
   "metadata": {},
   "source": [
    "**Open task:**\n",
    "1. Play around with the code and make sure you understand everything \n",
    "2. Play around with the parameters and see how stuff changes, which parameters breaks the solution?\n",
    "3. How sensitive is the code e.g. to changes to the initial guess of $p_1$?\n",
    "4. How sensitive is the code  e.g. to changes in $\\kappa$?\n",
    "\n",
    "If you have any questions you are very welcome to raise an issue on [github](https://github.com/NumEconCopenhagen/IntroProg-lectures/issues) with your question."
   ]
  },
  {
   "cell_type": "markdown",
   "metadata": {},
   "source": [
    "## 2. <a id='toc2_'></a>[Numerical integration by Monte Carlo](#toc0_)"
   ]
  },
  {
   "attachments": {},
   "cell_type": "markdown",
   "metadata": {},
   "source": [
    "Numerical integration is the task of computing\n",
    "\n",
    "$$ \n",
    "\\mathbb{E}[\\mathbf{g}(x)]  \\text{ where } x \\sim F,\n",
    "$$\n",
    "\n",
    "where $F$ is a known probability distribution and $\\mathbf{g}(\\cdot)$ is a function. In terms of a integral this can also be writen as\n",
    "\n",
    "$$\n",
    "\\mathbb{E}[\\mathbf{g}(x)] = \\int_{x\\in\\mathcal{X}} \\mathbf{g}(x) dF(x) = \\int_{x\\in\\mathcal{X}} \\mathbf{g}(x) f(x) dx\n",
    "$$\n",
    "\n",
    "where $f$ is the PDF for the CDF $F$ and $\\mathcal{X}$ is the domain of $x$.\n",
    "\n",
    "In an economic model, $\\mathbf{g}$ might represent the way the state of an agent or the economy develops stochastically. \n",
    "\n",
    "Relying on the law of large numbers we **approximate** the true integral with a finite sample:\n",
    "\n",
    "$$\n",
    "\\mathbb{E}[\\mathbf{g}(x)] \\approx \\frac{1}{N}\\sum_{i=1}^{N} \\mathbf{g}(x_i) \n",
    "$$\n",
    "\n",
    "where $x_i$ is drawn from $F$ using a random number generator. This is also called **numerical integration by Monte Carlo**.\n",
    "\n",
    "For an easy implementation, we use  \n",
    "\n",
    "$$\n",
    "\\mathbf{g}(x) = (x-2)^2\n",
    "$$"
   ]
  },
  {
   "cell_type": "markdown",
   "metadata": {},
   "source": [
    "**Monte Carlo function:**  "
   ]
  },
  {
   "cell_type": "code",
   "execution_count": 18,
   "metadata": {},
   "outputs": [],
   "source": [
    "def g(x):\n",
    "    return (x-2)**2\n",
    "\n",
    "def MC(N,g,F):\n",
    "    X = F.rvs(size=N) # rvs = draw N random values from F\n",
    "    return np.mean(g(X)) # apply g to X"
   ]
  },
  {
   "cell_type": "markdown",
   "metadata": {},
   "source": [
    "**Example** with a normal distribution:"
   ]
  },
  {
   "cell_type": "code",
   "execution_count": 19,
   "metadata": {},
   "outputs": [
    {
     "name": "stdout",
     "output_type": "stream",
     "text": [
      "E[g(x)] = 3.8356169115992915\n"
     ]
    }
   ],
   "source": [
    "N = 1000\n",
    "mu = 0.1\n",
    "sigma = 0.5\n",
    "F = norm(loc=mu,scale=sigma)\n",
    "mc_integral = MC(N,g,F)\n",
    "print('E[g(x)] =', mc_integral)"
   ]
  },
  {
   "attachments": {},
   "cell_type": "markdown",
   "metadata": {},
   "source": [
    "Function for drawning $ K $ Monte Carlo samples:"
   ]
  },
  {
   "cell_type": "code",
   "execution_count": 20,
   "metadata": {},
   "outputs": [],
   "source": [
    "def MC_sample(N,g,F,K):\n",
    "    \n",
    "    results = np.empty(K)\n",
    "    for i in range(K):\n",
    "        results[i] = MC(N,g,F)\n",
    "\n",
    "    return results"
   ]
  },
  {
   "cell_type": "markdown",
   "metadata": {},
   "source": [
    "The variance across Monte Carlo samples falls with larger $N$:"
   ]
  },
  {
   "cell_type": "code",
   "execution_count": 21,
   "metadata": {},
   "outputs": [
    {
     "name": "stdout",
     "output_type": "stream",
     "text": [
      "N =      100: 3.855304 (std: 0.1915)\n",
      "N =     1000: 3.856946 (std: 0.0612)\n",
      "N =    10000: 3.859432 (std: 0.0199)\n",
      "N =   100000: 3.859921 (std: 0.0063)\n"
     ]
    }
   ],
   "source": [
    "K = 1000\n",
    "for N in [10**2,10**3,10**4,10**5]:\n",
    "    results = MC_sample(N,g,F,K)\n",
    "    print(f'N = {N:8d}: {results.mean():.6f} (std: {results.std():.4f})')"
   ]
  },
  {
   "attachments": {},
   "cell_type": "markdown",
   "metadata": {},
   "source": [
    "In principle, you can always use Monte Carlo. But if $\\mathbf{g}$ had been a very computationally costly function, Monte Carlo would be infeasible. But there are other ways, which are a bit more advanced."
   ]
  }
 ],
 "metadata": {
  "kernelspec": {
   "display_name": "base",
   "language": "python",
   "name": "python3"
  },
  "language_info": {
   "codemirror_mode": {
    "name": "ipython",
    "version": 3
   },
   "file_extension": ".py",
   "mimetype": "text/x-python",
   "name": "python",
   "nbconvert_exporter": "python",
   "pygments_lexer": "ipython3",
<<<<<<< HEAD
   "version": "3.9.13"
=======
   "version": "3.9.15"
>>>>>>> f5ff997ec60318c5ccb4ad83f5161b26b6f7848c
  },
  "orig_nbformat": 4,
  "vscode": {
   "interpreter": {
    "hash": "49ad86e4173e808dde3ece77db1dfbcd474d878a6d41c4232c4fcffd8704151c"
   }
  }
 },
 "nbformat": 4,
 "nbformat_minor": 2
}
